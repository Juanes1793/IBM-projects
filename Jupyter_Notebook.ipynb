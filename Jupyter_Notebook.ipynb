{
  "cells": [
    {
      "cell_type": "markdown",
      "metadata": {
        "id": "view-in-github",
        "colab_type": "text"
      },
      "source": [
        "<a href=\"https://colab.research.google.com/github/Juanes1793/IBM-projects/blob/main/Jupyter_Notebook.ipynb\" target=\"_parent\"><img src=\"https://colab.research.google.com/assets/colab-badge.svg\" alt=\"Open In Colab\"/></a>"
      ]
    },
    {
      "cell_type": "markdown",
      "metadata": {
        "id": "Uvm96P-8mMrg"
      },
      "source": [
        "<center>\n",
        "    <img src=\"https://s3-api.us-geo.objectstorage.softlayer.net/cf-courses-data/CognitiveClass/Logos/organization_logo/organization_logo.png\" width=\"300\" alt=\"cognitiveclass.ai logo\"  />\n",
        "</center>\n"
      ]
    },
    {
      "cell_type": "markdown",
      "metadata": {
        "id": "4fb2di7CmMri"
      },
      "source": [
        "# **My Jupyter Notebook on IBM Watson Studio**"
      ]
    },
    {
      "cell_type": "markdown",
      "metadata": {
        "id": "6FHkRX1SmMrj"
      },
      "source": [
        "**Juan Esteban López Cardona**"
      ]
    },
    {
      "cell_type": "markdown",
      "metadata": {
        "id": "m8E8GTzTmMrj"
      },
      "source": [
        "I want to be a Data Scientist"
      ]
    },
    {
      "cell_type": "markdown",
      "metadata": {
        "id": "oZTeJ3HqmMrj"
      },
      "source": [
        "*I want to be a data scientist because this field of kwnoledge is very interesting and I like Statistics*"
      ]
    },
    {
      "cell_type": "markdown",
      "metadata": {
        "id": "L3VEPlbamMrj"
      },
      "source": [
        "### The following code print numbers from 1 to 10"
      ]
    },
    {
      "cell_type": "code",
      "execution_count": null,
      "metadata": {
        "id": "xsv1xwB3mMrk",
        "outputId": "96c87abf-c801-4be1-fafc-5a16bdcf6bac"
      },
      "outputs": [
        {
          "name": "stdout",
          "output_type": "stream",
          "text": [
            "0\n",
            "1\n",
            "2\n",
            "3\n",
            "4\n",
            "5\n",
            "6\n",
            "7\n",
            "8\n",
            "9\n",
            "10\n"
          ]
        }
      ],
      "source": [
        "for number in range(11):\n",
        "    print(number)"
      ]
    },
    {
      "cell_type": "markdown",
      "metadata": {
        "id": "EzgnQJqvmMrl"
      },
      "source": [
        "---\n",
        "\n",
        "Tables:\n",
        "\n",
        "\n",
        "First column name  | Second column name \n",
        "-------------------|------------------\n",
        "Row 1, Col 1       | Row 1, Col 2 \n",
        "Row 2, Col 1       | Row 2, Col 2 \n",
        "\n",
        "---\n",
        "\n",
        "Horizontal rules:\n",
        "\n",
        "---\n",
        "\n",
        "---\n",
        "\n",
        "Ordered lists:\n",
        "\n",
        "1. One\n",
        "1. Two\n",
        "1. Three\n",
        "```\n",
        "\n",
        "---\n",
        "\n",
        "Unordered lists:\n",
        "\n",
        "* One\n",
        "* Two\n",
        "* Three\n",
        "\n",
        "---\n",
        "\n",
        "LInk\n",
        "* [Spotify](https://open.spotify.com)"
      ]
    },
    {
      "cell_type": "code",
      "execution_count": null,
      "metadata": {
        "id": "vtea1ooCmMrl"
      },
      "outputs": [],
      "source": []
    }
  ],
  "metadata": {
    "kernelspec": {
      "display_name": "Python",
      "language": "python",
      "name": "conda-env-python-py"
    },
    "language_info": {
      "codemirror_mode": {
        "name": "ipython",
        "version": 3
      },
      "file_extension": ".py",
      "mimetype": "text/x-python",
      "name": "python",
      "nbconvert_exporter": "python",
      "pygments_lexer": "ipython3",
      "version": "3.7.12"
    },
    "colab": {
      "provenance": [],
      "include_colab_link": true
    }
  },
  "nbformat": 4,
  "nbformat_minor": 0
}